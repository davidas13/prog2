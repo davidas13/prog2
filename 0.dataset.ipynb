{
 "cells": [
  {
   "cell_type": "code",
   "execution_count": 1,
   "metadata": {},
   "outputs": [],
   "source": [
    "import pandas as pd\n",
    "import numpy as np\n",
    "\n",
    "df = pd.read_csv('input/fer2013.csv')"
   ]
  },
  {
   "cell_type": "code",
   "execution_count": 3,
   "metadata": {},
   "outputs": [],
   "source": [
    "pixels, emotions = df.loc[df[\"Usage\"] == \"Training\",\"pixels\"].values, df.loc[df[\"Usage\"] == \"Training\", \"emotion\"].values"
   ]
  },
  {
   "cell_type": "code",
   "execution_count": 4,
   "metadata": {},
   "outputs": [],
   "source": [
    "n_pixels = []\n",
    "for px in pixels:\n",
    "\tpx = [int(t) for t in px.split(' ')]\n",
    "\tn_pixels.append(px)"
   ]
  },
  {
   "cell_type": "code",
   "execution_count": 5,
   "metadata": {},
   "outputs": [],
   "source": [
    "import cv2\n",
    "images = []\n",
    "for px in n_pixels:\n",
    "\t_px = np.array(px, dtype=np.uint8).reshape(48,48)\n",
    "\tim = cv2.cvtColor(_px, cv2.COLOR_BGR2RGB)\n",
    "\tim = cv2.resize(im, (128,128))\n",
    "\timages.append(im)"
   ]
  },
  {
   "cell_type": "code",
   "execution_count": 6,
   "metadata": {},
   "outputs": [
    {
     "data": {
      "text/plain": [
       "2"
      ]
     },
     "execution_count": 6,
     "metadata": {},
     "output_type": "execute_result"
    }
   ],
   "source": [
    "emotions[9]"
   ]
  },
  {
   "cell_type": "code",
   "execution_count": 12,
   "metadata": {},
   "outputs": [],
   "source": [
    "import os\n",
    "import glob\n",
    "index = [\"Marah\", \"Jijik\", \"Takut\", \"Senang\", \"Sedih\", \"Terkejut\", \"Biasa saja\"]\n",
    "\n",
    "for i, d in enumerate(index):\n",
    "\tpath = os.path.join('input/training/', d)\n",
    "\tif not os.path.isdir(path):\n",
    "\t\tos.mkdir(path)\n",
    "\tfor j, e in enumerate(emotions):\n",
    "\t\tif i == e:\n",
    "\t\t\tm = 0\n",
    "\t\t\timg_no = sorted([int(fn[:fn.find('.')]) for fn in os.listdir(path) if fn[0]!='.']+[0])[-1]+1\n",
    "\t\t\tcv2.imwrite('%s/%s.png' %(path, img_no), images[j])"
   ]
  },
  {
   "cell_type": "code",
   "execution_count": 14,
   "metadata": {},
   "outputs": [],
   "source": [
    "\t_x_test, _y_test = df.loc[df[\"Usage\"].str.endswith(\"Test\") ,\"pixels\"], df.loc[df[\"Usage\"].str.endswith(\"Test\"), \"emotion\"]"
   ]
  },
  {
   "cell_type": "code",
   "execution_count": 18,
   "metadata": {},
   "outputs": [],
   "source": [
    "test_pixels = []\n",
    "for px in _x_test:\n",
    "\tpx = [int(t) for t in px.split(' ')]\n",
    "\ttest_pixels.append(px)\n",
    "\n",
    "test = []\n",
    "for px in test_pixels:\n",
    "\t_px = np.array(px, dtype=np.uint8).reshape(48,48)\n",
    "\tim = cv2.cvtColor(_px, cv2.COLOR_BGR2RGB)\n",
    "\tim = cv2.resize(im, (128,128))\n",
    "\ttest.append(im)\n",
    "\n",
    "for i, d in enumerate(index):\n",
    "\tpath = os.path.join('input/test/', d)\n",
    "\tif not os.path.isdir(path):\n",
    "\t\tos.mkdir(path)\n",
    "\tfor j, e in enumerate(_y_test):\n",
    "\t\tif i == e:\n",
    "\t\t\tm = 0\n",
    "\t\t\timg_no = sorted([int(fn[:fn.find('.')]) for fn in os.listdir(path) if fn[0]!='.']+[0])[-1]+1\n",
    "\t\t\tcv2.imwrite('%s/%s.png' %(path, img_no), test[j])"
   ]
  }
 ],
 "metadata": {
  "interpreter": {
   "hash": "0600588c3b5f4418cbe7b5ebc6825b479f3bc010269d8b60d75058cdd010adfe"
  },
  "kernelspec": {
   "display_name": "Python 3.7.4 64-bit",
   "language": "python",
   "name": "python3"
  },
  "language_info": {
   "codemirror_mode": {
    "name": "ipython",
    "version": 3
   },
   "file_extension": ".py",
   "mimetype": "text/x-python",
   "name": "python",
   "nbconvert_exporter": "python",
   "pygments_lexer": "ipython3",
   "version": "3.7.4"
  },
  "orig_nbformat": 4
 },
 "nbformat": 4,
 "nbformat_minor": 2
}
